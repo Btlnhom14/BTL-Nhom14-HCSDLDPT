{
 "cells": [
  {
   "cell_type": "markdown",
   "id": "89ec4561",
   "metadata": {},
   "source": [
    "Import thư viện"
   ]
  },
  {
   "cell_type": "code",
   "execution_count": null,
   "id": "4ca0fbc2",
   "metadata": {
    "vscode": {
     "languageId": "plaintext"
    }
   },
   "outputs": [],
   "source": [
    "import numpy as np\n",
    "import cv2\n",
    "import matplotlib.pyplot as plt\n",
    "import os\n",
    "from skimage import measure, segmentation, morphology, feature\n",
    "from scipy import ndimage\n",
    "import pandas as pd\n",
    "from scipy.spatial import distance\n",
    "import glob\n",
    "import warnings\n",
    "warnings.filterwarnings('ignore')\n",
    "# Thiêt lập hiên thị hình anh\n",
    "plt.rcParams['figure.figsize'] = (12, 8)\n",
    "print(\"Các thư viện đã được import thành công!\")"
   ]
  }
 ],
 "metadata": {
  "language_info": {
   "name": "python"
  }
 },
 "nbformat": 4,
 "nbformat_minor": 5
}
