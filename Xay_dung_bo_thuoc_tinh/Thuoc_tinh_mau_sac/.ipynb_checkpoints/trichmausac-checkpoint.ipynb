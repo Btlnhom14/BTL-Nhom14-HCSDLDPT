{
 "cells": [
  {
   "cell_type": "code",
   "execution_count": null,
   "id": "9b81a986",
   "metadata": {},
   "outputs": [],
   "source": [
    "import cv2\n",
    "import numpy as np\n",
    "from sklearn.cluster import KMeans\n",
    "import os\n",
    "import csv"
   ]
  },
  {
   "cell_type": "code",
   "execution_count": null,
   "id": "e659bb9c",
   "metadata": {},
   "outputs": [],
   "source": [
    "def imread_unicode(path):\n",
    "    try:\n",
    "        stream = np.fromfile(path, dtype=np.uint8)\n",
    "        image = cv2.imdecode(stream, cv2.IMREAD_COLOR)\n",
    "        return image\n",
    "    except Exception as e:\n",
    "        print(f\"[LỖI imread_unicode] {path}: {e}\")\n",
    "        return None"
   ]
  },
  {
   "cell_type": "code",
   "execution_count": null,
   "id": "25d40103",
   "metadata": {},
   "outputs": [],
   "source": [
    "def extract_hsv_histogram(image, h_bins=18, s_bins=8, v_bins=8):\n",
    "    hsv = cv2.cvtColor(image, cv2.COLOR_BGR2HSV)\n",
    "    hist_h = cv2.calcHist([hsv], [0], None, [h_bins], [0, 180])\n",
    "    hist_s = cv2.calcHist([hsv], [1], None, [s_bins], [0, 256])\n",
    "    hist_v = cv2.calcHist([hsv], [2], None, [v_bins], [0, 256])\n",
    "    hist = np.concatenate([hist_h, hist_s, hist_v]).flatten()\n",
    "    hist /= hist.sum()\n",
    "    return hist"
   ]
  },
  {
   "cell_type": "code",
   "execution_count": null,
   "id": "cc4ace27",
   "metadata": {},
   "outputs": [],
   "source": [
    "def extract_dominant_colors(image, k=3):\n",
    "    image_rgb = cv2.cvtColor(image, cv2.COLOR_BGR2RGB)\n",
    "    pixels = image_rgb.reshape(-1, 3)\n",
    "\n",
    "    kmeans = KMeans(n_clusters=k, n_init=10)\n",
    "    kmeans.fit(pixels)\n",
    "\n",
    "    colors = kmeans.cluster_centers_\n",
    "    counts = np.bincount(kmeans.labels_)\n",
    "    percentages = counts / counts.sum()\n",
    "\n",
    "    features = []\n",
    "    for i in range(k):\n",
    "        features.extend(colors[i])        # R, G, B\n",
    "        features.append(percentages[i])   # Tỉ lệ %\n",
    "    return np.array(features)"
   ]
  },
  {
   "cell_type": "code",
   "execution_count": null,
   "id": "0e870192",
   "metadata": {},
   "outputs": [],
   "source": [
    "def process_image(image_path, hsv_bins=(18, 8, 8), kmeans_k=3):\n",
    "    image = imread_unicode(image_path)\n",
    "    if image is None:\n",
    "        print(f\"[LỖI] Không đọc được ảnh: {image_path}\")\n",
    "        return None\n",
    "    image = cv2.resize(image, (600, 400))\n",
    "    hsv_feat = extract_hsv_histogram(image, *hsv_bins)\n",
    "    kmeans_feat = extract_dominant_colors(image, k=kmeans_k)\n",
    "    return np.concatenate([hsv_feat, kmeans_feat])"
   ]
  },
  {
   "cell_type": "code",
   "execution_count": null,
   "id": "6e70112d",
   "metadata": {},
   "outputs": [],
   "source": [
    "def extract_features_from_folder(folder_path, output_csv):\n",
    "    header = [f\"hsv_{i}\" for i in range(18 + 8 + 8)]  # HSV = 34 chiều\n",
    "    header += [f\"kmeans_r{i//4+1}\" if i % 4 == 0 else\n",
    "               f\"kmeans_g{i//4+1}\" if i % 4 == 1 else\n",
    "               f\"kmeans_b{i//4+1}\" if i % 4 == 2 else\n",
    "               f\"kmeans_p{i//4+1}\" for i in range(3 * 4)]  # K-means = 12 chiều\n",
    "    header = ['filename'] + header\n",
    "\n",
    "    with open(output_csv, 'w', newline='', encoding='utf-8') as f:\n",
    "        writer = csv.writer(f)\n",
    "        writer.writerow(header)\n",
    "\n",
    "        for file in os.listdir(folder_path):\n",
    "            filename = os.fsdecode(file)\n",
    "            if filename.lower().endswith(('.jpg', '.jpeg', '.png')):\n",
    "                path = os.path.join(folder_path, filename)\n",
    "                features = process_image(path)\n",
    "                if features is not None:\n",
    "                    writer.writerow([filename] + features.tolist())\n",
    "                    print(f\"✔ Đã xử lý: {filename}\")\n",
    "                else:\n",
    "                    print(f\"✘ Lỗi xử lý: {filename}\")"
   ]
  },
  {
   "cell_type": "code",
   "execution_count": null,
   "id": "78f34364",
   "metadata": {},
   "outputs": [],
   "source": [
    "# Đường dẫn đến thư mục chứa ảnh và file CSV đầu ra\n",
    "folder_path = \"../../data\"  # hoặc chỉnh đường dẫn tùy vào cấu trúc của bạn\n",
    "output_csv = \"features.csv\"\n",
    "\n",
    "extract_features_from_folder(folder_path, output_csv)"
   ]
  }
 ],
 "metadata": {
  "language_info": {
   "name": "python"
  }
 },
 "nbformat": 4,
 "nbformat_minor": 5
}
